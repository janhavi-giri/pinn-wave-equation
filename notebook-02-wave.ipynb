    # Plot error statistics
    ax2.plot(t_grid.cpu().numpy(), mean_error_time, 'b-', label='Mean Error')
    ax2.plot(t_grid.cpu().numpy(), max_error_time, 'r--', label='Max Error')
    ax2.set_xlabel('Time t')
    ax2.set_ylabel('Error')
    ax2.set_title('Error Statistics Over Time')
    ax2.legend()
    ax2.grid(True, alpha=0.3)

    plt.suptitle('PINN Error Analysis', fontsize=16)
    plt.tight_layout()
    plt.show()

}
}
